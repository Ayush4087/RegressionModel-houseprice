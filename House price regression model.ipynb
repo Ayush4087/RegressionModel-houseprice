{
 "cells": [
  {
   "cell_type": "code",
   "execution_count": 568,
   "metadata": {},
   "outputs": [],
   "source": [
    "from sklearn.model_selection import train_test_split\n",
    "from sklearn.metrics import accuracy_score\n",
    "import numpy as np\n",
    "import matplotlib.pyplot as plt\n",
    "import matplotlib.image as mpimg\n",
    "import os\n",
    "import random\n",
    "import pandas as pd\n",
    "from sklearn.metrics import accuracy_score, confusion_matrix\n",
    "from sklearn.ensemble import RandomForestClassifier\n",
    "from sklearn import svm, tree\n",
    "import xgboost\n",
    "from sklearn.feature_extraction.text import TfidfVectorizer\n",
    "from xgboost import plot_tree\n",
    "import seaborn as sns\n",
    "import xlwt\n",
    "from xlwt import Workbook\n",
    "from sklearn.preprocessing import OneHotEncoder\n",
    "from sklearn import preprocessing\n",
    "from sklearn import datasets, linear_model, metrics"
   ]
  },
  {
   "cell_type": "code",
   "execution_count": 569,
   "metadata": {},
   "outputs": [],
   "source": [
    "df = pd.read_csv(\"dataset/train.csv\")\n",
    "df = df.drop(\"Id\",axis=1)\n"
   ]
  },
  {
   "cell_type": "code",
   "execution_count": 570,
   "metadata": {},
   "outputs": [],
   "source": [
    "def check_null(val):\n",
    "    count = 0\n",
    "    x = df[val].isnull()\n",
    "    arr = x.values.tolist()\n",
    "    for i in arr:\n",
    "        if(i):\n",
    "            count+=1\n",
    "    if(count<8):\n",
    "        print(\"The length of the {} is {} and null values are {} and datatype is {}\".format(val,str(len(arr)),str(count),df[val].dtypes ))\n",
    "    return count"
   ]
  },
  {
   "cell_type": "code",
   "execution_count": 571,
   "metadata": {},
   "outputs": [],
   "source": [
    "label = []\n",
    "label_all = []\n",
    "label_del = []"
   ]
  },
  {
   "cell_type": "code",
   "execution_count": 572,
   "metadata": {},
   "outputs": [
    {
     "name": "stdout",
     "output_type": "stream",
     "text": [
      "The length of the MSSubClass is 1460 and null values are 0 and datatype is int64\n",
      "The length of the MSZoning is 1460 and null values are 0 and datatype is object\n",
      "The length of the LotArea is 1460 and null values are 0 and datatype is int64\n",
      "The length of the Street is 1460 and null values are 0 and datatype is object\n",
      "The length of the LotShape is 1460 and null values are 0 and datatype is object\n",
      "The length of the LandContour is 1460 and null values are 0 and datatype is object\n",
      "The length of the Utilities is 1460 and null values are 0 and datatype is object\n",
      "The length of the LotConfig is 1460 and null values are 0 and datatype is object\n",
      "The length of the LandSlope is 1460 and null values are 0 and datatype is object\n",
      "The length of the Neighborhood is 1460 and null values are 0 and datatype is object\n",
      "The length of the Condition1 is 1460 and null values are 0 and datatype is object\n",
      "The length of the Condition2 is 1460 and null values are 0 and datatype is object\n",
      "The length of the BldgType is 1460 and null values are 0 and datatype is object\n",
      "The length of the HouseStyle is 1460 and null values are 0 and datatype is object\n",
      "The length of the OverallQual is 1460 and null values are 0 and datatype is int64\n",
      "The length of the OverallCond is 1460 and null values are 0 and datatype is int64\n",
      "The length of the YearBuilt is 1460 and null values are 0 and datatype is int64\n",
      "The length of the YearRemodAdd is 1460 and null values are 0 and datatype is int64\n",
      "The length of the RoofStyle is 1460 and null values are 0 and datatype is object\n",
      "The length of the RoofMatl is 1460 and null values are 0 and datatype is object\n",
      "The length of the Exterior1st is 1460 and null values are 0 and datatype is object\n",
      "The length of the Exterior2nd is 1460 and null values are 0 and datatype is object\n",
      "The length of the ExterQual is 1460 and null values are 0 and datatype is object\n",
      "The length of the ExterCond is 1460 and null values are 0 and datatype is object\n",
      "The length of the Foundation is 1460 and null values are 0 and datatype is object\n",
      "The length of the BsmtFinSF1 is 1460 and null values are 0 and datatype is int64\n",
      "The length of the BsmtFinSF2 is 1460 and null values are 0 and datatype is int64\n",
      "The length of the BsmtUnfSF is 1460 and null values are 0 and datatype is int64\n",
      "The length of the TotalBsmtSF is 1460 and null values are 0 and datatype is int64\n",
      "The length of the Heating is 1460 and null values are 0 and datatype is object\n",
      "The length of the HeatingQC is 1460 and null values are 0 and datatype is object\n",
      "The length of the CentralAir is 1460 and null values are 0 and datatype is object\n",
      "The length of the Electrical is 1460 and null values are 1 and datatype is object\n",
      "The length of the 1stFlrSF is 1460 and null values are 0 and datatype is int64\n",
      "The length of the 2ndFlrSF is 1460 and null values are 0 and datatype is int64\n",
      "The length of the LowQualFinSF is 1460 and null values are 0 and datatype is int64\n",
      "The length of the GrLivArea is 1460 and null values are 0 and datatype is int64\n",
      "The length of the BsmtFullBath is 1460 and null values are 0 and datatype is int64\n",
      "The length of the BsmtHalfBath is 1460 and null values are 0 and datatype is int64\n",
      "The length of the FullBath is 1460 and null values are 0 and datatype is int64\n",
      "The length of the HalfBath is 1460 and null values are 0 and datatype is int64\n",
      "The length of the BedroomAbvGr is 1460 and null values are 0 and datatype is int64\n",
      "The length of the KitchenAbvGr is 1460 and null values are 0 and datatype is int64\n",
      "The length of the KitchenQual is 1460 and null values are 0 and datatype is object\n",
      "The length of the TotRmsAbvGrd is 1460 and null values are 0 and datatype is int64\n",
      "The length of the Functional is 1460 and null values are 0 and datatype is object\n",
      "The length of the Fireplaces is 1460 and null values are 0 and datatype is int64\n",
      "The length of the GarageCars is 1460 and null values are 0 and datatype is int64\n",
      "The length of the GarageArea is 1460 and null values are 0 and datatype is int64\n",
      "The length of the PavedDrive is 1460 and null values are 0 and datatype is object\n",
      "The length of the WoodDeckSF is 1460 and null values are 0 and datatype is int64\n",
      "The length of the OpenPorchSF is 1460 and null values are 0 and datatype is int64\n",
      "The length of the EnclosedPorch is 1460 and null values are 0 and datatype is int64\n",
      "The length of the 3SsnPorch is 1460 and null values are 0 and datatype is int64\n",
      "The length of the ScreenPorch is 1460 and null values are 0 and datatype is int64\n",
      "The length of the PoolArea is 1460 and null values are 0 and datatype is int64\n",
      "The length of the MiscVal is 1460 and null values are 0 and datatype is int64\n",
      "The length of the MoSold is 1460 and null values are 0 and datatype is int64\n",
      "The length of the YrSold is 1460 and null values are 0 and datatype is int64\n",
      "The length of the SaleType is 1460 and null values are 0 and datatype is object\n",
      "The length of the SaleCondition is 1460 and null values are 0 and datatype is object\n",
      "The length of the SalePrice is 1460 and null values are 0 and datatype is int64\n"
     ]
    }
   ],
   "source": [
    "for col in df.columns:\n",
    "    null = check_null(col)\n",
    "    if(null<8):\n",
    "        label.append(str(col))\n",
    "    if(null>=8):\n",
    "        label_del.append(str(col))\n",
    "    label_all.append(str(col))"
   ]
  },
  {
   "cell_type": "code",
   "execution_count": 573,
   "metadata": {},
   "outputs": [
    {
     "name": "stdout",
     "output_type": "stream",
     "text": [
      "62\n",
      "80\n",
      "18\n"
     ]
    }
   ],
   "source": [
    "print(len(label))\n",
    "print(len(label_all))\n",
    "print(len(label_del))"
   ]
  },
  {
   "cell_type": "code",
   "execution_count": 574,
   "metadata": {},
   "outputs": [
    {
     "name": "stdout",
     "output_type": "stream",
     "text": [
      "      MSSubClass MSZoning  LotArea Street LotShape LandContour Utilities  \\\n",
      "0             60       RL     8450   Pave      Reg         Lvl    AllPub   \n",
      "1             20       RL     9600   Pave      Reg         Lvl    AllPub   \n",
      "2             60       RL    11250   Pave      IR1         Lvl    AllPub   \n",
      "3             70       RL     9550   Pave      IR1         Lvl    AllPub   \n",
      "4             60       RL    14260   Pave      IR1         Lvl    AllPub   \n",
      "...          ...      ...      ...    ...      ...         ...       ...   \n",
      "1455          60       RL     7917   Pave      Reg         Lvl    AllPub   \n",
      "1456          20       RL    13175   Pave      Reg         Lvl    AllPub   \n",
      "1457          70       RL     9042   Pave      Reg         Lvl    AllPub   \n",
      "1458          20       RL     9717   Pave      Reg         Lvl    AllPub   \n",
      "1459          20       RL     9937   Pave      Reg         Lvl    AllPub   \n",
      "\n",
      "     LotConfig LandSlope Neighborhood  ... OpenPorchSF EnclosedPorch  \\\n",
      "0       Inside       Gtl      CollgCr  ...          61             0   \n",
      "1          FR2       Gtl      Veenker  ...           0             0   \n",
      "2       Inside       Gtl      CollgCr  ...          42             0   \n",
      "3       Corner       Gtl      Crawfor  ...          35           272   \n",
      "4          FR2       Gtl      NoRidge  ...          84             0   \n",
      "...        ...       ...          ...  ...         ...           ...   \n",
      "1455    Inside       Gtl      Gilbert  ...          40             0   \n",
      "1456    Inside       Gtl       NWAmes  ...           0             0   \n",
      "1457    Inside       Gtl      Crawfor  ...          60             0   \n",
      "1458    Inside       Gtl        NAmes  ...           0           112   \n",
      "1459    Inside       Gtl      Edwards  ...          68             0   \n",
      "\n",
      "     3SsnPorch ScreenPorch  PoolArea  MiscVal  MoSold  YrSold SaleType  \\\n",
      "0            0           0         0        0       2    2008       WD   \n",
      "1            0           0         0        0       5    2007       WD   \n",
      "2            0           0         0        0       9    2008       WD   \n",
      "3            0           0         0        0       2    2006       WD   \n",
      "4            0           0         0        0      12    2008       WD   \n",
      "...        ...         ...       ...      ...     ...     ...      ...   \n",
      "1455         0           0         0        0       8    2007       WD   \n",
      "1456         0           0         0        0       2    2010       WD   \n",
      "1457         0           0         0     2500       5    2010       WD   \n",
      "1458         0           0         0        0       4    2010       WD   \n",
      "1459         0           0         0        0       6    2008       WD   \n",
      "\n",
      "     SaleCondition  \n",
      "0           Normal  \n",
      "1           Normal  \n",
      "2           Normal  \n",
      "3          Abnorml  \n",
      "4           Normal  \n",
      "...            ...  \n",
      "1455        Normal  \n",
      "1456        Normal  \n",
      "1457        Normal  \n",
      "1458        Normal  \n",
      "1459        Normal  \n",
      "\n",
      "[1460 rows x 61 columns]\n"
     ]
    }
   ],
   "source": [
    "y = df[\"SalePrice\"]\n",
    "X = df.drop(\"SalePrice\",axis=1)\n",
    "for val in label_del:\n",
    "    X = X.drop(val,axis=1)\n",
    "    \n",
    "print(X)"
   ]
  },
  {
   "cell_type": "code",
   "execution_count": 575,
   "metadata": {},
   "outputs": [
    {
     "name": "stdout",
     "output_type": "stream",
     "text": [
      "      MSSubClass  MSZoning  LotArea  Street  LotShape  LandContour  Utilities  \\\n",
      "0             60         3     8450       1         3            3          0   \n",
      "1             20         3     9600       1         3            3          0   \n",
      "2             60         3    11250       1         0            3          0   \n",
      "3             70         3     9550       1         0            3          0   \n",
      "4             60         3    14260       1         0            3          0   \n",
      "...          ...       ...      ...     ...       ...          ...        ...   \n",
      "1455          60         3     7917       1         3            3          0   \n",
      "1456          20         3    13175       1         3            3          0   \n",
      "1457          70         3     9042       1         3            3          0   \n",
      "1458          20         3     9717       1         3            3          0   \n",
      "1459          20         3     9937       1         3            3          0   \n",
      "\n",
      "      LotConfig  LandSlope  Neighborhood  ...  OpenPorchSF  EnclosedPorch  \\\n",
      "0             4          0             5  ...           61              0   \n",
      "1             2          0            24  ...            0              0   \n",
      "2             4          0             5  ...           42              0   \n",
      "3             0          0             6  ...           35            272   \n",
      "4             2          0            15  ...           84              0   \n",
      "...         ...        ...           ...  ...          ...            ...   \n",
      "1455          4          0             8  ...           40              0   \n",
      "1456          4          0            14  ...            0              0   \n",
      "1457          4          0             6  ...           60              0   \n",
      "1458          4          0            12  ...            0            112   \n",
      "1459          4          0             7  ...           68              0   \n",
      "\n",
      "      3SsnPorch  ScreenPorch  PoolArea  MiscVal  MoSold  YrSold  SaleType  \\\n",
      "0             0            0         0        0       2    2008         8   \n",
      "1             0            0         0        0       5    2007         8   \n",
      "2             0            0         0        0       9    2008         8   \n",
      "3             0            0         0        0       2    2006         8   \n",
      "4             0            0         0        0      12    2008         8   \n",
      "...         ...          ...       ...      ...     ...     ...       ...   \n",
      "1455          0            0         0        0       8    2007         8   \n",
      "1456          0            0         0        0       2    2010         8   \n",
      "1457          0            0         0     2500       5    2010         8   \n",
      "1458          0            0         0        0       4    2010         8   \n",
      "1459          0            0         0        0       6    2008         8   \n",
      "\n",
      "      SaleCondition  \n",
      "0                 4  \n",
      "1                 4  \n",
      "2                 4  \n",
      "3                 0  \n",
      "4                 4  \n",
      "...             ...  \n",
      "1455              4  \n",
      "1456              4  \n",
      "1457              4  \n",
      "1458              4  \n",
      "1459              4  \n",
      "\n",
      "[1460 rows x 61 columns]\n"
     ]
    }
   ],
   "source": [
    "################## CONVERTING THE STRING DATA TO THE INTEGER CLASSES USING LABEL ENCODER ###########\n",
    "string_labels = []\n",
    "\n",
    "for col in X.columns:\n",
    "    if(type(X[col][0])==str):\n",
    "        string_labels.append(col)\n",
    "        \n",
    "X[\"Electrical\"].fillna(\"ayush\",inplace = True)\n",
    "\n",
    "le = preprocessing.LabelEncoder()\n",
    "\n",
    "\n",
    "for col in string_labels:\n",
    "    X[col] = le.fit_transform(X[col])\n",
    "\n",
    "print(X)\n"
   ]
  },
  {
   "cell_type": "code",
   "execution_count": 576,
   "metadata": {},
   "outputs": [],
   "source": [
    "X_train,X_test,y_train,y_test=train_test_split(X,y,test_size=0.2)"
   ]
  },
  {
   "cell_type": "code",
   "execution_count": 577,
   "metadata": {},
   "outputs": [
    {
     "name": "stdout",
     "output_type": "stream",
     "text": [
      "(1168, 61)\n",
      "(1168,)\n"
     ]
    }
   ],
   "source": [
    "print(X_train.shape)\n",
    "print(y_train.shape)"
   ]
  },
  {
   "cell_type": "code",
   "execution_count": 578,
   "metadata": {},
   "outputs": [
    {
     "data": {
      "text/plain": [
       "LinearRegression(copy_X=True, fit_intercept=True, n_jobs=None, normalize=False)"
      ]
     },
     "execution_count": 578,
     "metadata": {},
     "output_type": "execute_result"
    }
   ],
   "source": [
    "reg = linear_model.LinearRegression()\n",
    "reg.fit(X_train, y_train) "
   ]
  },
  {
   "cell_type": "code",
   "execution_count": 579,
   "metadata": {},
   "outputs": [],
   "source": [
    "y_pred = reg.predict(X_test)"
   ]
  },
  {
   "cell_type": "code",
   "execution_count": 580,
   "metadata": {},
   "outputs": [
    {
     "name": "stdout",
     "output_type": "stream",
     "text": [
      "['MSSubClass', 'MSZoning', 'LotArea', 'Street', 'LotShape', 'LandContour', 'Utilities', 'LotConfig', 'LandSlope', 'Neighborhood', 'Condition1', 'Condition2', 'BldgType', 'HouseStyle', 'OverallQual', 'OverallCond', 'YearBuilt', 'YearRemodAdd', 'RoofStyle', 'RoofMatl', 'Exterior1st', 'Exterior2nd', 'ExterQual', 'ExterCond', 'Foundation', 'BsmtFinSF1', 'BsmtFinSF2', 'BsmtUnfSF', 'TotalBsmtSF', 'Heating', 'HeatingQC', 'CentralAir', 'Electrical', '1stFlrSF', '2ndFlrSF', 'LowQualFinSF', 'GrLivArea', 'BsmtFullBath', 'BsmtHalfBath', 'FullBath', 'HalfBath', 'BedroomAbvGr', 'KitchenAbvGr', 'KitchenQual', 'TotRmsAbvGrd', 'Functional', 'Fireplaces', 'GarageCars', 'GarageArea', 'PavedDrive', 'WoodDeckSF', 'OpenPorchSF', 'EnclosedPorch', '3SsnPorch', 'ScreenPorch', 'PoolArea', 'MiscVal', 'MoSold', 'YrSold', 'SaleType', 'SaleCondition']\n",
      "61\n",
      "['MSZoning', 'Street', 'LotShape', 'LandContour', 'Utilities', 'LotConfig', 'LandSlope', 'Neighborhood', 'Condition1', 'Condition2', 'BldgType', 'HouseStyle', 'RoofStyle', 'RoofMatl', 'Exterior1st', 'Exterior2nd', 'ExterQual', 'ExterCond', 'Foundation', 'Heating', 'HeatingQC', 'CentralAir', 'Electrical', 'KitchenQual', 'Functional', 'PavedDrive', 'SaleType', 'SaleCondition']\n",
      "28\n"
     ]
    }
   ],
   "source": [
    "colo = []\n",
    "for col in X.columns:\n",
    "    colo.append(col)\n",
    "print(colo)\n",
    "print(len(colo))\n",
    "print(string_labels)\n",
    "print(len(string_labels))"
   ]
  },
  {
   "cell_type": "code",
   "execution_count": 581,
   "metadata": {},
   "outputs": [
    {
     "name": "stdout",
     "output_type": "stream",
     "text": [
      "Variance score: 0.8385144663023244\n"
     ]
    },
    {
     "data": {
      "image/png": "[encoded data removed]",
      "text/plain": [
       "<Figure size 432x288 with 1 Axes>"
      ]
     },
     "metadata": {},
     "output_type": "display_data"
    }
   ],
   "source": [
    "# variance score: 1 means perfect prediction \n",
    "print('Variance score: {}'.format(reg.score(X_test, y_test))) \n",
    "  \n",
    "# plot for residual error \n",
    "  \n",
    "## setting plot style \n",
    "plt.style.use('fivethirtyeight') \n",
    "  \n",
    "## plotting residual errors in training data \n",
    "plt.scatter(reg.predict(X_train), reg.predict(X_train) - y_train, \n",
    "            color = \"green\", s = 10, label = 'Train data') \n",
    "  \n",
    "## plotting residual errors in test data \n",
    "plt.scatter(reg.predict(X_test), reg.predict(X_test) - y_test, \n",
    "            color = \"blue\", s = 10, label = 'Test data') \n",
    "  \n",
    "## plotting line for zero residual error \n",
    "plt.hlines(y = 0, xmin = 0, xmax = 50, linewidth = 2) \n",
    "  \n",
    "## plotting legend \n",
    "plt.legend(loc = 'upper right') \n",
    "  \n",
    "## plot title \n",
    "plt.title(\"Residual errors\") \n",
    "  \n",
    "## function to show plot \n",
    "plt.show() "
   ]
  },
  {
   "cell_type": "code",
   "execution_count": 582,
   "metadata": {},
   "outputs": [
    {
     "name": "stdout",
     "output_type": "stream",
     "text": [
      "        Id  MSSubClass MSZoning  LotFrontage  LotArea Street Alley LotShape  \\\n",
      "0     1461          20       RH         80.0    11622   Pave   NaN      Reg   \n",
      "1     1462          20       RL         81.0    14267   Pave   NaN      IR1   \n",
      "2     1463          60       RL         74.0    13830   Pave   NaN      IR1   \n",
      "3     1464          60       RL         78.0     9978   Pave   NaN      IR1   \n",
      "4     1465         120       RL         43.0     5005   Pave   NaN      IR1   \n",
      "...    ...         ...      ...          ...      ...    ...   ...      ...   \n",
      "1454  2915         160       RM         21.0     1936   Pave   NaN      Reg   \n",
      "1455  2916         160       RM         21.0     1894   Pave   NaN      Reg   \n",
      "1456  2917          20       RL        160.0    20000   Pave   NaN      Reg   \n",
      "1457  2918          85       RL         62.0    10441   Pave   NaN      Reg   \n",
      "1458  2919          60       RL         74.0     9627   Pave   NaN      Reg   \n",
      "\n",
      "     LandContour Utilities  ... ScreenPorch PoolArea PoolQC  Fence  \\\n",
      "0            Lvl    AllPub  ...         120        0    NaN  MnPrv   \n",
      "1            Lvl    AllPub  ...           0        0    NaN    NaN   \n",
      "2            Lvl    AllPub  ...           0        0    NaN  MnPrv   \n",
      "3            Lvl    AllPub  ...           0        0    NaN    NaN   \n",
      "4            HLS    AllPub  ...         144        0    NaN    NaN   \n",
      "...          ...       ...  ...         ...      ...    ...    ...   \n",
      "1454         Lvl    AllPub  ...           0        0    NaN    NaN   \n",
      "1455         Lvl    AllPub  ...           0        0    NaN    NaN   \n",
      "1456         Lvl    AllPub  ...           0        0    NaN    NaN   \n",
      "1457         Lvl    AllPub  ...           0        0    NaN  MnPrv   \n",
      "1458         Lvl    AllPub  ...           0        0    NaN    NaN   \n",
      "\n",
      "     MiscFeature MiscVal MoSold  YrSold  SaleType  SaleCondition  \n",
      "0            NaN       0      6    2010        WD         Normal  \n",
      "1           Gar2   12500      6    2010        WD         Normal  \n",
      "2            NaN       0      3    2010        WD         Normal  \n",
      "3            NaN       0      6    2010        WD         Normal  \n",
      "4            NaN       0      1    2010        WD         Normal  \n",
      "...          ...     ...    ...     ...       ...            ...  \n",
      "1454         NaN       0      6    2006        WD         Normal  \n",
      "1455         NaN       0      4    2006        WD        Abnorml  \n",
      "1456         NaN       0      9    2006        WD        Abnorml  \n",
      "1457        Shed     700      7    2006        WD         Normal  \n",
      "1458         NaN       0     11    2006        WD         Normal  \n",
      "\n",
      "[1459 rows x 80 columns]\n"
     ]
    }
   ],
   "source": [
    "###################### TEST DATA PROCESSING ################################\n",
    "\n",
    "test_data = pd.read_csv(\"dataset/test.csv\")\n",
    "print(test_data)"
   ]
  },
  {
   "cell_type": "code",
   "execution_count": 583,
   "metadata": {},
   "outputs": [
    {
     "name": "stdout",
     "output_type": "stream",
     "text": [
      "      MSSubClass MSZoning  LotArea Street LotShape LandContour Utilities  \\\n",
      "0             20       RH    11622   Pave      Reg         Lvl    AllPub   \n",
      "1             20       RL    14267   Pave      IR1         Lvl    AllPub   \n",
      "2             60       RL    13830   Pave      IR1         Lvl    AllPub   \n",
      "3             60       RL     9978   Pave      IR1         Lvl    AllPub   \n",
      "4            120       RL     5005   Pave      IR1         HLS    AllPub   \n",
      "...          ...      ...      ...    ...      ...         ...       ...   \n",
      "1454         160       RM     1936   Pave      Reg         Lvl    AllPub   \n",
      "1455         160       RM     1894   Pave      Reg         Lvl    AllPub   \n",
      "1456          20       RL    20000   Pave      Reg         Lvl    AllPub   \n",
      "1457          85       RL    10441   Pave      Reg         Lvl    AllPub   \n",
      "1458          60       RL     9627   Pave      Reg         Lvl    AllPub   \n",
      "\n",
      "     LotConfig LandSlope Neighborhood  ... OpenPorchSF EnclosedPorch  \\\n",
      "0       Inside       Gtl        NAmes  ...           0             0   \n",
      "1       Corner       Gtl        NAmes  ...          36             0   \n",
      "2       Inside       Gtl      Gilbert  ...          34             0   \n",
      "3       Inside       Gtl      Gilbert  ...          36             0   \n",
      "4       Inside       Gtl      StoneBr  ...          82             0   \n",
      "...        ...       ...          ...  ...         ...           ...   \n",
      "1454    Inside       Gtl      MeadowV  ...           0             0   \n",
      "1455    Inside       Gtl      MeadowV  ...          24             0   \n",
      "1456    Inside       Gtl      Mitchel  ...           0             0   \n",
      "1457    Inside       Gtl      Mitchel  ...          32             0   \n",
      "1458    Inside       Mod      Mitchel  ...          48             0   \n",
      "\n",
      "     3SsnPorch ScreenPorch  PoolArea  MiscVal  MoSold  YrSold SaleType  \\\n",
      "0            0         120         0        0       6    2010       WD   \n",
      "1            0           0         0    12500       6    2010       WD   \n",
      "2            0           0         0        0       3    2010       WD   \n",
      "3            0           0         0        0       6    2010       WD   \n",
      "4            0         144         0        0       1    2010       WD   \n",
      "...        ...         ...       ...      ...     ...     ...      ...   \n",
      "1454         0           0         0        0       6    2006       WD   \n",
      "1455         0           0         0        0       4    2006       WD   \n",
      "1456         0           0         0        0       9    2006       WD   \n",
      "1457         0           0         0      700       7    2006       WD   \n",
      "1458         0           0         0        0      11    2006       WD   \n",
      "\n",
      "     SaleCondition  \n",
      "0           Normal  \n",
      "1           Normal  \n",
      "2           Normal  \n",
      "3           Normal  \n",
      "4           Normal  \n",
      "...            ...  \n",
      "1454        Normal  \n",
      "1455       Abnorml  \n",
      "1456       Abnorml  \n",
      "1457        Normal  \n",
      "1458        Normal  \n",
      "\n",
      "[1459 rows x 61 columns]\n"
     ]
    }
   ],
   "source": [
    "############# DROPPING 1ST COLUMN #####################\n",
    "test_data = test_data.drop(\"Id\",axis=1)\n",
    "#######################REMOVING ALL THE COLUMNS THAT WERE REMOVED FROM THE TRAINING DATA ##############333\n",
    "for val in label_del:\n",
    "    test_data = test_data.drop(val,axis=1)\n",
    "           "
   ]
  },
  {
   "cell_type": "code",
   "execution_count": 584,
   "metadata": {},
   "outputs": [],
   "source": [
    "########################## FILLING ALL THE NULL VALUES #################################\n",
    "def fill_null(col):\n",
    "    if col in string_labels:\n",
    "        test_data[col].fillna(\"ayush\",inplace = True)\n",
    "    else:\n",
    "        test_data[col].fillna(54321,inplace = True)\n",
    "        \n",
    "for i in test_data.columns:\n",
    "    fill_null(i)"
   ]
  },
  {
   "cell_type": "code",
   "execution_count": 586,
   "metadata": {},
   "outputs": [
    {
     "name": "stdout",
     "output_type": "stream",
     "text": [
      "The length of the MSSubClass is 1459 and null values are 0 and datatype is int64\n",
      "The length of the MSZoning is 1459 and null values are 0 and datatype is object\n",
      "The length of the LotArea is 1459 and null values are 0 and datatype is int64\n",
      "The length of the Street is 1459 and null values are 0 and datatype is object\n",
      "The length of the LotShape is 1459 and null values are 0 and datatype is object\n",
      "The length of the LandContour is 1459 and null values are 0 and datatype is object\n",
      "The length of the Utilities is 1459 and null values are 0 and datatype is object\n",
      "The length of the LotConfig is 1459 and null values are 0 and datatype is object\n",
      "The length of the LandSlope is 1459 and null values are 0 and datatype is object\n",
      "The length of the Neighborhood is 1459 and null values are 0 and datatype is object\n",
      "The length of the Condition1 is 1459 and null values are 0 and datatype is object\n",
      "The length of the Condition2 is 1459 and null values are 0 and datatype is object\n",
      "The length of the BldgType is 1459 and null values are 0 and datatype is object\n",
      "The length of the HouseStyle is 1459 and null values are 0 and datatype is object\n",
      "The length of the OverallQual is 1459 and null values are 0 and datatype is int64\n",
      "The length of the OverallCond is 1459 and null values are 0 and datatype is int64\n",
      "The length of the YearBuilt is 1459 and null values are 0 and datatype is int64\n",
      "The length of the YearRemodAdd is 1459 and null values are 0 and datatype is int64\n",
      "The length of the RoofStyle is 1459 and null values are 0 and datatype is object\n",
      "The length of the RoofMatl is 1459 and null values are 0 and datatype is object\n",
      "The length of the Exterior1st is 1459 and null values are 0 and datatype is object\n",
      "The length of the Exterior2nd is 1459 and null values are 0 and datatype is object\n",
      "The length of the ExterQual is 1459 and null values are 0 and datatype is object\n",
      "The length of the ExterCond is 1459 and null values are 0 and datatype is object\n",
      "The length of the Foundation is 1459 and null values are 0 and datatype is object\n",
      "The length of the BsmtFinSF1 is 1459 and null values are 0 and datatype is float64\n",
      "The length of the BsmtFinSF2 is 1459 and null values are 0 and datatype is float64\n",
      "The length of the BsmtUnfSF is 1459 and null values are 0 and datatype is float64\n",
      "The length of the TotalBsmtSF is 1459 and null values are 0 and datatype is float64\n",
      "The length of the Heating is 1459 and null values are 0 and datatype is object\n",
      "The length of the HeatingQC is 1459 and null values are 0 and datatype is object\n",
      "The length of the CentralAir is 1459 and null values are 0 and datatype is object\n",
      "The length of the Electrical is 1459 and null values are 0 and datatype is object\n",
      "The length of the 1stFlrSF is 1459 and null values are 0 and datatype is int64\n",
      "The length of the 2ndFlrSF is 1459 and null values are 0 and datatype is int64\n",
      "The length of the LowQualFinSF is 1459 and null values are 0 and datatype is int64\n",
      "The length of the GrLivArea is 1459 and null values are 0 and datatype is int64\n",
      "The length of the BsmtFullBath is 1459 and null values are 0 and datatype is float64\n",
      "The length of the BsmtHalfBath is 1459 and null values are 0 and datatype is float64\n",
      "The length of the FullBath is 1459 and null values are 0 and datatype is int64\n",
      "The length of the HalfBath is 1459 and null values are 0 and datatype is int64\n",
      "The length of the BedroomAbvGr is 1459 and null values are 0 and datatype is int64\n",
      "The length of the KitchenAbvGr is 1459 and null values are 0 and datatype is int64\n",
      "The length of the KitchenQual is 1459 and null values are 0 and datatype is object\n",
      "The length of the TotRmsAbvGrd is 1459 and null values are 0 and datatype is int64\n",
      "The length of the Functional is 1459 and null values are 0 and datatype is object\n",
      "The length of the Fireplaces is 1459 and null values are 0 and datatype is int64\n",
      "The length of the GarageCars is 1459 and null values are 0 and datatype is float64\n",
      "The length of the GarageArea is 1459 and null values are 0 and datatype is float64\n",
      "The length of the PavedDrive is 1459 and null values are 0 and datatype is object\n",
      "The length of the WoodDeckSF is 1459 and null values are 0 and datatype is int64\n",
      "The length of the OpenPorchSF is 1459 and null values are 0 and datatype is int64\n",
      "The length of the EnclosedPorch is 1459 and null values are 0 and datatype is int64\n",
      "The length of the 3SsnPorch is 1459 and null values are 0 and datatype is int64\n",
      "The length of the ScreenPorch is 1459 and null values are 0 and datatype is int64\n",
      "The length of the PoolArea is 1459 and null values are 0 and datatype is int64\n",
      "The length of the MiscVal is 1459 and null values are 0 and datatype is int64\n",
      "The length of the MoSold is 1459 and null values are 0 and datatype is int64\n",
      "The length of the YrSold is 1459 and null values are 0 and datatype is int64\n",
      "The length of the SaleType is 1459 and null values are 0 and datatype is object\n",
      "The length of the SaleCondition is 1459 and null values are 0 and datatype is object\n"
     ]
    }
   ],
   "source": [
    "####################### CHECKING IF ALL THE VALUES HAVE BEEN FILLED ###########################\n",
    "def check(val):\n",
    "    count = 0\n",
    "    x = test_data[val].isnull()\n",
    "    arr = x.values.tolist()\n",
    "    for i in arr:\n",
    "        if(i):\n",
    "            count+=1\n",
    "    if(count<8):\n",
    "        print(\"The length of the {} is {} and null values are {} and datatype is {}\".format(val,str(len(arr)),str(count),test_data[val].dtypes ))\n",
    "\n",
    "        \n",
    "for i in test_data.columns:\n",
    "    check(i)"
   ]
  },
  {
   "cell_type": "code",
   "execution_count": 588,
   "metadata": {},
   "outputs": [],
   "source": [
    "for col in string_labels:\n",
    "    test_data[col] = le.fit_transform(test_data[col])"
   ]
  },
  {
   "cell_type": "code",
   "execution_count": 590,
   "metadata": {},
   "outputs": [
    {
     "name": "stdout",
     "output_type": "stream",
     "text": [
      "(1459, 61)\n",
      "(1460, 61)\n"
     ]
    }
   ],
   "source": [
    "print(test_data.shape)\n",
    "print(X.shape)"
   ]
  },
  {
   "cell_type": "code",
   "execution_count": 591,
   "metadata": {},
   "outputs": [],
   "source": [
    "answer = reg.predict(test_data)"
   ]
  },
  {
   "cell_type": "code",
   "execution_count": 597,
   "metadata": {},
   "outputs": [
    {
     "name": "stdout",
     "output_type": "stream",
     "text": [
      "(1459,)\n",
      "105154.8749450054\n"
     ]
    }
   ],
   "source": [
    "print(answer.shape)\n",
    "print(answer[0])"
   ]
  },
  {
   "cell_type": "code",
   "execution_count": 598,
   "metadata": {},
   "outputs": [],
   "source": [
    "wb = Workbook()\n",
    "sheet1 = wb.add_sheet('Pricing') \n",
    "col_one = [i for i in range(1461,2920,1)]\n",
    "\n",
    "for j in range(len(col_one)):\n",
    "    sheet1.write(j+1, 0,col_one[j])\n",
    "    \n",
    "for j in range(len(answer)):\n",
    "    sheet1.write(j+1,1,answer[j])\n",
    "    \n",
    "\n",
    "wb.save('Answer.xls') "
   ]
  }
 ],
 "metadata": {
  "kernelspec": {
   "display_name": "Python 3",
   "language": "python",
   "name": "python3"
  },
  "language_info": {
   "codemirror_mode": {
    "name": "ipython",
    "version": 3
   },
   "file_extension": ".py",
   "mimetype": "text/x-python",
   "name": "python",
   "nbconvert_exporter": "python",
   "pygments_lexer": "ipython3",
   "version": "3.7.4"
  }
 },
 "nbformat": 4,
 "nbformat_minor": 2
}
